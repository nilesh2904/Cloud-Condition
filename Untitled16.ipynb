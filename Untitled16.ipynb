{
 "cells": [
  {
   "cell_type": "code",
   "execution_count": 1,
   "metadata": {},
   "outputs": [],
   "source": [
    "import pandas as pd\n",
    "import numpy as np"
   ]
  },
  {
   "cell_type": "code",
   "execution_count": 2,
   "metadata": {},
   "outputs": [
    {
     "name": "stderr",
     "output_type": "stream",
     "text": [
      "D:\\Anaconda\\lib\\site-packages\\IPython\\core\\interactiveshell.py:3063: DtypeWarning: Columns (3) have mixed types.Specify dtype option on import or set low_memory=False.\n",
      "  interactivity=interactivity, compiler=compiler, result=result)\n"
     ]
    }
   ],
   "source": [
    "train = pd.read_csv(r\"D:\\Hackthon Imarticus\\train_CloudCondition.csv\",index_col=0,header=0)\n",
    "test = pd.read_csv(r\"D:\\Hackthon Imarticus\\test_CloudCondition.csv\",index_col=0,header=0)\n"
   ]
  },
  {
   "cell_type": "code",
   "execution_count": 3,
   "metadata": {},
   "outputs": [
    {
     "data": {
      "text/html": [
       "<div>\n",
       "<style scoped>\n",
       "    .dataframe tbody tr th:only-of-type {\n",
       "        vertical-align: middle;\n",
       "    }\n",
       "\n",
       "    .dataframe tbody tr th {\n",
       "        vertical-align: top;\n",
       "    }\n",
       "\n",
       "    .dataframe thead th {\n",
       "        text-align: right;\n",
       "    }\n",
       "</style>\n",
       "<table border=\"1\" class=\"dataframe\">\n",
       "  <thead>\n",
       "    <tr style=\"text-align: right;\">\n",
       "      <th></th>\n",
       "      <th>Cloud_Condition</th>\n",
       "      <th>Rain_OR_SNOW</th>\n",
       "      <th>Temperature (C)</th>\n",
       "      <th>Apparent Temperature (C)</th>\n",
       "      <th>Humidity</th>\n",
       "      <th>Wind Speed (km/h)</th>\n",
       "      <th>Wind Bearing (degrees)</th>\n",
       "      <th>Visibility (km)</th>\n",
       "      <th>Pressure (millibars)</th>\n",
       "      <th>Condensation</th>\n",
       "      <th>Solar irradiance intensity</th>\n",
       "    </tr>\n",
       "    <tr>\n",
       "      <th>Day</th>\n",
       "      <th></th>\n",
       "      <th></th>\n",
       "      <th></th>\n",
       "      <th></th>\n",
       "      <th></th>\n",
       "      <th></th>\n",
       "      <th></th>\n",
       "      <th></th>\n",
       "      <th></th>\n",
       "      <th></th>\n",
       "      <th></th>\n",
       "    </tr>\n",
       "  </thead>\n",
       "  <tbody>\n",
       "    <tr>\n",
       "      <th>1</th>\n",
       "      <td>Partly Cloudy</td>\n",
       "      <td>rain</td>\n",
       "      <td>-13</td>\n",
       "      <td>-19.0</td>\n",
       "      <td>0.134364</td>\n",
       "      <td>17.0</td>\n",
       "      <td>68.0</td>\n",
       "      <td>4.0</td>\n",
       "      <td>1008.0</td>\n",
       "      <td>Frost</td>\n",
       "      <td>1068</td>\n",
       "    </tr>\n",
       "    <tr>\n",
       "      <th>2</th>\n",
       "      <td>Partly Cloudy</td>\n",
       "      <td>rain</td>\n",
       "      <td>15</td>\n",
       "      <td>5.0</td>\n",
       "      <td>0.847434</td>\n",
       "      <td>8.0</td>\n",
       "      <td>291.0</td>\n",
       "      <td>2.0</td>\n",
       "      <td>1036.0</td>\n",
       "      <td>Frost</td>\n",
       "      <td>1291</td>\n",
       "    </tr>\n",
       "    <tr>\n",
       "      <th>3</th>\n",
       "      <td>Partly Cloudy</td>\n",
       "      <td>rain</td>\n",
       "      <td>33</td>\n",
       "      <td>-12.0</td>\n",
       "      <td>0.763775</td>\n",
       "      <td>32.0</td>\n",
       "      <td>32.0</td>\n",
       "      <td>8.0</td>\n",
       "      <td>1004.0</td>\n",
       "      <td>Dry</td>\n",
       "      <td>1433</td>\n",
       "    </tr>\n",
       "    <tr>\n",
       "      <th>4</th>\n",
       "      <td>Partly Cloudy</td>\n",
       "      <td>snow</td>\n",
       "      <td>30</td>\n",
       "      <td>36.0</td>\n",
       "      <td>0.255069</td>\n",
       "      <td>15.0</td>\n",
       "      <td>130.0</td>\n",
       "      <td>3.0</td>\n",
       "      <td>1016.0</td>\n",
       "      <td>Dry</td>\n",
       "      <td>1410</td>\n",
       "    </tr>\n",
       "    <tr>\n",
       "      <th>5</th>\n",
       "      <td>Partly Cloudy</td>\n",
       "      <td>snow</td>\n",
       "      <td>27</td>\n",
       "      <td>30.0</td>\n",
       "      <td>0.495435</td>\n",
       "      <td>63.0</td>\n",
       "      <td>60.0</td>\n",
       "      <td>15.0</td>\n",
       "      <td>1007.0</td>\n",
       "      <td>Fog</td>\n",
       "      <td>1391</td>\n",
       "    </tr>\n",
       "  </tbody>\n",
       "</table>\n",
       "</div>"
      ],
      "text/plain": [
       "    Cloud_Condition Rain_OR_SNOW Temperature (C)  Apparent Temperature (C)  \\\n",
       "Day                                                                          \n",
       "1     Partly Cloudy         rain             -13                     -19.0   \n",
       "2     Partly Cloudy         rain              15                       5.0   \n",
       "3     Partly Cloudy         rain              33                     -12.0   \n",
       "4     Partly Cloudy         snow              30                      36.0   \n",
       "5     Partly Cloudy         snow              27                      30.0   \n",
       "\n",
       "     Humidity  Wind Speed (km/h)  Wind Bearing (degrees)  Visibility (km)  \\\n",
       "Day                                                                         \n",
       "1    0.134364               17.0                    68.0              4.0   \n",
       "2    0.847434                8.0                   291.0              2.0   \n",
       "3    0.763775               32.0                    32.0              8.0   \n",
       "4    0.255069               15.0                   130.0              3.0   \n",
       "5    0.495435               63.0                    60.0             15.0   \n",
       "\n",
       "     Pressure (millibars) Condensation  Solar irradiance intensity  \n",
       "Day                                                                 \n",
       "1                  1008.0        Frost                        1068  \n",
       "2                  1036.0        Frost                        1291  \n",
       "3                  1004.0          Dry                        1433  \n",
       "4                  1016.0          Dry                        1410  \n",
       "5                  1007.0          Fog                        1391  "
      ]
     },
     "execution_count": 3,
     "metadata": {},
     "output_type": "execute_result"
    }
   ],
   "source": [
    "train.head()"
   ]
  },
  {
   "cell_type": "code",
   "execution_count": 4,
   "metadata": {},
   "outputs": [
    {
     "data": {
      "text/html": [
       "<div>\n",
       "<style scoped>\n",
       "    .dataframe tbody tr th:only-of-type {\n",
       "        vertical-align: middle;\n",
       "    }\n",
       "\n",
       "    .dataframe tbody tr th {\n",
       "        vertical-align: top;\n",
       "    }\n",
       "\n",
       "    .dataframe thead th {\n",
       "        text-align: right;\n",
       "    }\n",
       "</style>\n",
       "<table border=\"1\" class=\"dataframe\">\n",
       "  <thead>\n",
       "    <tr style=\"text-align: right;\">\n",
       "      <th></th>\n",
       "      <th>Rain_OR_SNOW</th>\n",
       "      <th>Temperature (C)</th>\n",
       "      <th>Apparent Temperature (C)</th>\n",
       "      <th>Humidity</th>\n",
       "      <th>Wind Speed (km/h)</th>\n",
       "      <th>Wind Bearing (degrees)</th>\n",
       "      <th>Visibility (km)</th>\n",
       "      <th>Pressure (millibars)</th>\n",
       "      <th>Condensation</th>\n",
       "      <th>Solar irradiance intensity</th>\n",
       "    </tr>\n",
       "    <tr>\n",
       "      <th>Day</th>\n",
       "      <th></th>\n",
       "      <th></th>\n",
       "      <th></th>\n",
       "      <th></th>\n",
       "      <th></th>\n",
       "      <th></th>\n",
       "      <th></th>\n",
       "      <th></th>\n",
       "      <th></th>\n",
       "      <th></th>\n",
       "    </tr>\n",
       "  </thead>\n",
       "  <tbody>\n",
       "    <tr>\n",
       "      <th>80002</th>\n",
       "      <td>rain</td>\n",
       "      <td>1.0</td>\n",
       "      <td>0.0</td>\n",
       "      <td>0.078150</td>\n",
       "      <td>17.0</td>\n",
       "      <td>300</td>\n",
       "      <td>10.0</td>\n",
       "      <td>1029.0</td>\n",
       "      <td>Fog</td>\n",
       "      <td>1399</td>\n",
       "    </tr>\n",
       "    <tr>\n",
       "      <th>80003</th>\n",
       "      <td>rain</td>\n",
       "      <td>-3.0</td>\n",
       "      <td>25.0</td>\n",
       "      <td>0.653251</td>\n",
       "      <td>25.0</td>\n",
       "      <td>322</td>\n",
       "      <td>0.0</td>\n",
       "      <td>1009.0</td>\n",
       "      <td>Dry</td>\n",
       "      <td>1468</td>\n",
       "    </tr>\n",
       "    <tr>\n",
       "      <th>80004</th>\n",
       "      <td>rain</td>\n",
       "      <td>18.0</td>\n",
       "      <td>17.0</td>\n",
       "      <td>0.930970</td>\n",
       "      <td>37.0</td>\n",
       "      <td>330</td>\n",
       "      <td>12.0</td>\n",
       "      <td>1045.0</td>\n",
       "      <td>Dry</td>\n",
       "      <td>1152</td>\n",
       "    </tr>\n",
       "    <tr>\n",
       "      <th>80005</th>\n",
       "      <td>rain</td>\n",
       "      <td>33.0</td>\n",
       "      <td>-12.0</td>\n",
       "      <td>0.778844</td>\n",
       "      <td>50.0</td>\n",
       "      <td>350</td>\n",
       "      <td>3.0</td>\n",
       "      <td>1022.0</td>\n",
       "      <td>Fog</td>\n",
       "      <td>1003</td>\n",
       "    </tr>\n",
       "    <tr>\n",
       "      <th>80006</th>\n",
       "      <td>rain</td>\n",
       "      <td>25.0</td>\n",
       "      <td>-19.0</td>\n",
       "      <td>0.491523</td>\n",
       "      <td>62.0</td>\n",
       "      <td>300</td>\n",
       "      <td>12.0</td>\n",
       "      <td>1042.0</td>\n",
       "      <td>Fog</td>\n",
       "      <td>1228</td>\n",
       "    </tr>\n",
       "  </tbody>\n",
       "</table>\n",
       "</div>"
      ],
      "text/plain": [
       "      Rain_OR_SNOW  Temperature (C)  Apparent Temperature (C)  Humidity  \\\n",
       "Day                                                                       \n",
       "80002         rain              1.0                       0.0  0.078150   \n",
       "80003         rain             -3.0                      25.0  0.653251   \n",
       "80004         rain             18.0                      17.0  0.930970   \n",
       "80005         rain             33.0                     -12.0  0.778844   \n",
       "80006         rain             25.0                     -19.0  0.491523   \n",
       "\n",
       "       Wind Speed (km/h)  Wind Bearing (degrees)  Visibility (km)  \\\n",
       "Day                                                                 \n",
       "80002               17.0                     300             10.0   \n",
       "80003               25.0                     322              0.0   \n",
       "80004               37.0                     330             12.0   \n",
       "80005               50.0                     350              3.0   \n",
       "80006               62.0                     300             12.0   \n",
       "\n",
       "       Pressure (millibars) Condensation  Solar irradiance intensity  \n",
       "Day                                                                   \n",
       "80002                1029.0          Fog                        1399  \n",
       "80003                1009.0          Dry                        1468  \n",
       "80004                1045.0          Dry                        1152  \n",
       "80005                1022.0          Fog                        1003  \n",
       "80006                1042.0          Fog                        1228  "
      ]
     },
     "execution_count": 4,
     "metadata": {},
     "output_type": "execute_result"
    }
   ],
   "source": [
    "test.head()"
   ]
  },
  {
   "cell_type": "code",
   "execution_count": 5,
   "metadata": {},
   "outputs": [
    {
     "data": {
      "text/plain": [
       "Index(['Cloud_Condition', 'Rain_OR_SNOW', 'Temperature (C)',\n",
       "       'Apparent Temperature (C)', 'Humidity', 'Wind Speed (km/h)',\n",
       "       'Wind Bearing (degrees)', 'Visibility (km)', 'Pressure (millibars)',\n",
       "       'Condensation', 'Solar irradiance intensity'],\n",
       "      dtype='object')"
      ]
     },
     "execution_count": 5,
     "metadata": {},
     "output_type": "execute_result"
    }
   ],
   "source": [
    "train.columns"
   ]
  },
  {
   "cell_type": "code",
   "execution_count": 6,
   "metadata": {},
   "outputs": [
    {
     "data": {
      "text/plain": [
       "Index(['Rain_OR_SNOW', 'Temperature (C)', 'Apparent Temperature (C)',\n",
       "       'Humidity', 'Wind Speed (km/h)', 'Wind Bearing (degrees)',\n",
       "       'Visibility (km)', 'Pressure (millibars)', 'Condensation',\n",
       "       'Solar irradiance intensity'],\n",
       "      dtype='object')"
      ]
     },
     "execution_count": 6,
     "metadata": {},
     "output_type": "execute_result"
    }
   ],
   "source": [
    "test.columns"
   ]
  },
  {
   "cell_type": "code",
   "execution_count": 7,
   "metadata": {},
   "outputs": [
    {
     "data": {
      "text/plain": [
       "(71428, 11)"
      ]
     },
     "execution_count": 7,
     "metadata": {},
     "output_type": "execute_result"
    }
   ],
   "source": [
    "train.shape"
   ]
  },
  {
   "cell_type": "code",
   "execution_count": 8,
   "metadata": {},
   "outputs": [
    {
     "data": {
      "text/plain": [
       "(16452, 10)"
      ]
     },
     "execution_count": 8,
     "metadata": {},
     "output_type": "execute_result"
    }
   ],
   "source": [
    "test.shape"
   ]
  },
  {
   "cell_type": "code",
   "execution_count": 9,
   "metadata": {},
   "outputs": [
    {
     "name": "stdout",
     "output_type": "stream",
     "text": [
      "<class 'pandas.core.frame.DataFrame'>\n",
      "Int64Index: 71428 entries, 1 to 80000\n",
      "Data columns (total 11 columns):\n",
      " #   Column                      Non-Null Count  Dtype  \n",
      "---  ------                      --------------  -----  \n",
      " 0   Cloud_Condition             71428 non-null  object \n",
      " 1   Rain_OR_SNOW                71313 non-null  object \n",
      " 2   Temperature (C)             71176 non-null  object \n",
      " 3   Apparent Temperature (C)    71425 non-null  float64\n",
      " 4   Humidity                    71427 non-null  float64\n",
      " 5   Wind Speed (km/h)           71426 non-null  float64\n",
      " 6   Wind Bearing (degrees)      71391 non-null  float64\n",
      " 7   Visibility (km)             71408 non-null  float64\n",
      " 8   Pressure (millibars)        71363 non-null  float64\n",
      " 9   Condensation                71428 non-null  object \n",
      " 10  Solar irradiance intensity  71428 non-null  int64  \n",
      "dtypes: float64(6), int64(1), object(4)\n",
      "memory usage: 6.5+ MB\n"
     ]
    }
   ],
   "source": [
    "train.info()"
   ]
  },
  {
   "cell_type": "code",
   "execution_count": 10,
   "metadata": {},
   "outputs": [
    {
     "name": "stdout",
     "output_type": "stream",
     "text": [
      "<class 'pandas.core.frame.DataFrame'>\n",
      "Int64Index: 16452 entries, 80002 to 96453\n",
      "Data columns (total 10 columns):\n",
      " #   Column                      Non-Null Count  Dtype  \n",
      "---  ------                      --------------  -----  \n",
      " 0   Rain_OR_SNOW                16452 non-null  object \n",
      " 1   Temperature (C)             16452 non-null  float64\n",
      " 2   Apparent Temperature (C)    16452 non-null  float64\n",
      " 3   Humidity                    16452 non-null  float64\n",
      " 4   Wind Speed (km/h)           16452 non-null  float64\n",
      " 5   Wind Bearing (degrees)      16452 non-null  int64  \n",
      " 6   Visibility (km)             16452 non-null  float64\n",
      " 7   Pressure (millibars)        16452 non-null  float64\n",
      " 8   Condensation                16452 non-null  object \n",
      " 9   Solar irradiance intensity  16452 non-null  int64  \n",
      "dtypes: float64(6), int64(2), object(2)\n",
      "memory usage: 1.4+ MB\n"
     ]
    }
   ],
   "source": [
    "test.info()"
   ]
  },
  {
   "cell_type": "code",
   "execution_count": 11,
   "metadata": {},
   "outputs": [
    {
     "data": {
      "text/plain": [
       "Cloud_Condition                 0\n",
       "Rain_OR_SNOW                  115\n",
       "Temperature (C)               252\n",
       "Apparent Temperature (C)        3\n",
       "Humidity                        1\n",
       "Wind Speed (km/h)               2\n",
       "Wind Bearing (degrees)         37\n",
       "Visibility (km)                20\n",
       "Pressure (millibars)           65\n",
       "Condensation                    0\n",
       "Solar irradiance intensity      0\n",
       "dtype: int64"
      ]
     },
     "execution_count": 11,
     "metadata": {},
     "output_type": "execute_result"
    }
   ],
   "source": [
    "train.isnull().sum()"
   ]
  },
  {
   "cell_type": "code",
   "execution_count": 12,
   "metadata": {},
   "outputs": [
    {
     "data": {
      "text/plain": [
       "Rain_OR_SNOW                  0\n",
       "Temperature (C)               0\n",
       "Apparent Temperature (C)      0\n",
       "Humidity                      0\n",
       "Wind Speed (km/h)             0\n",
       "Wind Bearing (degrees)        0\n",
       "Visibility (km)               0\n",
       "Pressure (millibars)          0\n",
       "Condensation                  0\n",
       "Solar irradiance intensity    0\n",
       "dtype: int64"
      ]
     },
     "execution_count": 12,
     "metadata": {},
     "output_type": "execute_result"
    }
   ],
   "source": [
    "test.isnull().sum()"
   ]
  },
  {
   "cell_type": "code",
   "execution_count": 13,
   "metadata": {
    "scrolled": true
   },
   "outputs": [
    {
     "name": "stdout",
     "output_type": "stream",
     "text": [
      "Cloud_Condition ['Partly Cloudy' 'Light Rain' 'Breezy and Dry' 'Overcast' 'Foggy'\n",
      " 'Breezy and Mostly Cloudy' 'Clear' 'Breezy and Partly Cloudy'\n",
      " 'Breezy and Overcast' 'Humid and Mostly Cloudy' 'Mostly Cloudy'\n",
      " 'Humid and Partly Cloudy' 'Windy and Foggy' 'Windy and Overcast'\n",
      " 'Breezy and Foggy' 'Windy and Partly Cloudy' 'Breezy'\n",
      " 'Dry and Partly Cloudy' 'Windy and Mostly Cloudy'\n",
      " 'Dangerously Windy and Partly Cloudy' 'Dry' 'Windy' 'Humid and Overcast'\n",
      " 'Drizzle' 'Windy and Dry' 'Dry and Mostly Cloudy']\n",
      "Rain_OR_SNOW ['rain' 'snow' nan]\n",
      "Temperature (C) ['-13' '15' '33' '30' '27' '-17' '-5' '-14' '10' '7' '9' '20' '3' '29'\n",
      " '-8' '-15' '-20' '36' '32' '6' '17' '28' '-21' '23' '-4' '25' '-7' '16'\n",
      " '39' '-1' '13' '35' '22' '12' '14' '1' '8' '-3' '38' '5' '37' '-10' '19'\n",
      " '34' '26' '0' '24' '11' '21' '-9' '-2' '4' '-19' '-6' '2' '-16' '-11'\n",
      " '18' '31' '-18' '-12' nan '-' 16 30 17 -13 36 4 9 10 13 27 -8 -16 34 2\n",
      " -11 -9 -10 -5 39 14 7 20 -3 15 24 35 25 -12 26 -14 19 5 38 -4 -17 0 8 21\n",
      " -20 -21 37 22 11 28 12 -18 29 1 -2 -7 -6 33 3 32 -1 6 -15 18 23 31 -19]\n",
      "Apparent Temperature (C) [-19.   5. -12.  36.  30.  33.  21.  -1. -15.  35. -24.  22.  28. -27.\n",
      "   7.   2. -14.  13. -25. -26.   0.  27.   1.  29.  17.  31.  10.  26.\n",
      "  -4.  15.  37.  -3.  11.   9.  23. -23.  34.   4.  24.  -5.  19.  20.\n",
      " -16.  38.  -7. -22.  12.  -6.  -2.  18. -11. -20.  25. -18. -17.   8.\n",
      " -13.  14.  16.   6.  -9. -21. -10.   3.  nan  -8.  32.]\n",
      "Humidity [0.13436424 0.84743374 0.76377462 ... 0.49607649 0.78316099 0.1915549 ]\n",
      "Wind Speed (km/h) [17.  8. 32. 15. 63. 57. 60. 48. 26. 12. 62.  3. 49. 55.  0. 34. 29. 13.\n",
      " 40.  2.  1. 27. 54. 28. 56. 44. 58. 37. 53. 23. 42. 24. 38. 36. 50.  4.\n",
      " 61. 31. 51. 22. 46. 47. 11. 20.  5. 39. 21. 25. 45. 16.  7. 52.  9. 10.\n",
      " 35. 14. 41. 43. 33. 18.  6. 30. 19. 59. nan]\n",
      "Wind Bearing (degrees) [ 68. 291.  32. 130.  60. 253. 230. 241. 333. 194. 107.  48. 249.  14.\n",
      " 199. 221. 311.   1. 356. 228. 136. 117. 302.  52. 162.  15.  11.  13.\n",
      " 332. 277.   4. 195. 351. 110. 216. 270. 113. 224. 283. 119. 176. 118.\n",
      " 346. 112. 235. 148. 213. 284. 328.  51.  95. 322. 151.  61. 170. 256.\n",
      " 259. 343.  97. 155. 145. 300. 255. 258. 201. 301.  17. 245. 124. 206.\n",
      " 212. 340.  88. 187. 280. 359. 345. 191.  44. 339. 260.  55.  83. 266.\n",
      " 189. 250. 240.  22. 157. 314. 303. 296. 331.  87.  86. 257. 116.   6.\n",
      " 102. 276. 207. 263. 295. 180. 137. 337.   2. 196. 262.  66. 265. 287.\n",
      " 105. 218.  28. 246. 186. 211. 248. 182. 177.   0. 275. 319. 313. 169.\n",
      " 234. 307. 325.  90. 281. 299.  92.  46. 282.  16. 344.  36.  42.   8.\n",
      " 231.   7. 143. 127.  56.  94.  35.  85.  81. 336. 139. 150. 232. 164.\n",
      " 254. 242.  58.  12. 159. 197. 175. 215.  96. 132. 129. 261. 310.  10.\n",
      " 115.   9. 203.  74.  18.  82. 347. 278. 355. 264. 114. 268. 202. 294.\n",
      " 323.  30. 152.  64. 108.  24. 156.  39. 158. 289.  19. 111. 318. 193.\n",
      "  50. 293.  99. 252.  53. 166. 205. 144.  80. 167. 288.  69. 173. 219.\n",
      " 109.  49. 273. 272. 120.  33.  20.  43. 188. 174. 149. 309. 208.  37.\n",
      "  75. 292.  41. 141.  23. 122.  59. 348. 123. 222. 244. 161. 106.   5.\n",
      " 305. 163. 200. 160. 204. 233.  57. 128. 316. 352. 338.  93. 101. 126.\n",
      " 184.  45. 229. 329.  21. 125. 171.  47.  38. 183.  78.  91.  76.  72.\n",
      "  54. 308. 279. 353. 153. 341. 349. 220. 330.  31. 354. 181.  70.   3.\n",
      " 327. 172. 286. 312. 334. 140. 104. 190.  84. 237. 304.  63.  79.  26.\n",
      " 326. 178. 321.  71. 315. 358. 227. 209. 142. 133. 251.  62. 223. 165.\n",
      " 226. 179. 285. 306. 236. 317. 342. 271. 269.  34. 324. 138. 135. 210.\n",
      " 350.  77. 239. 121. 357. 267.  25. 247. 168. 320. 297. 134. 225.  40.\n",
      " 147. 100. 198.  29. 274.  98.  89. 217.  27.  65. 154. 185. 131. 103.\n",
      "  67. 214. 290.  73. 243. 335. 192. 298. 238. 146.  nan]\n",
      "Visibility (km) [ 4.  2.  8.  3. 15. 14. 12.  6.  0. 13.  7. 10. 16. 11.  9.  5.  1. nan]\n",
      "Pressure (millibars) [1008. 1036. 1004. 1016. 1007. 1031. 1028. 1030. 1041. 1024. 1013. 1006.\n",
      "   nan 1027. 1038. 1000. 1044. 1017. 1046. 1014. 1037. 1020. 1001. 1034.\n",
      " 1043. 1033. 1035. 1022. 1029. 1018. 1026. 1011. 1040. 1021. 1045. 1032.\n",
      " 1042. 1012. 1019. 1025. 1002. 1015. 1023. 1005. 1010. 1039. 1003. 1009.]\n",
      "Condensation ['Frost' 'Dry' 'Fog' 'Mist']\n",
      "Solar irradiance intensity [1068 1291 1433 1410 1391 1032 1130 1060 1253 1389 1230 1241 1333 1194\n",
      " 1403 1107 1048 1249 1014 1457 1427 1199 1221 1311 1390 1392 1001 1356\n",
      " 1228 1136 1369 1117 1302 1483 1052 1461 1162 1015 1011 1013 1332 1277\n",
      " 1004 1480 1451 1195 1351 1110 1496 1216 1371 1270 1113 1224 1283 1119\n",
      " 1176 1118 1346 1112 1235 1487 1148 1474 1213 1428 1469 1284 1472 1328\n",
      " 1051 1095 1322 1370 1440 1151 1061 1380 1170 1458 1498 1364 1256 1479\n",
      " 1495 1259 1424 1466 1343 1097 1155 1145 1300 1255 1481 1258 1201 1301\n",
      " 1436 1017 1245 1124 1408 1206 1212 1340 1088 1187 1280 1359 1397 1345\n",
      " 1377 1191 1044 1339 1260 1055 1398 1083 1266 1430 1189 1250 1375 1240\n",
      " 1022 1157 1360 1434 1314 1303 1296 1331 1087 1086 1257 1116 1006 1394\n",
      " 1102 1276 1471 1207 1263 1295 1180 1465 1137 1337 1490 1373 1002 1196\n",
      " 1401 1438 1420 1488 1453 1379 1262 1414 1066 1265 1287 1105 1218 1486\n",
      " 1028 1246 1445 1186 1211 1248 1416 1182 1177 1000 1275 1319 1402 1313\n",
      " 1169 1234 1307 1411 1325 1090 1281 1299 1092 1046 1282 1435 1418 1476\n",
      " 1016 1344 1036 1042 1444 1008 1231 1007 1386 1143 1127 1056 1094 1035\n",
      " 1085 1081 1336 1139 1150 1232 1164 1254 1242 1058 1012 1159 1197 1175\n",
      " 1215 1407 1096 1132 1129 1460 1261 1500 1494 1310 1499 1010 1115 1009\n",
      " 1203 1074 1018 1368 1491 1082 1347 1278 1426 1355 1264 1114 1268 1202\n",
      " 1294 1323 1030 1152 1064 1108 1448 1024 1156 1439 1039 1158 1289 1449\n",
      " 1019 1419 1111 1492 1423 1399 1318 1193 1050 1293 1459 1099 1252 1053\n",
      " 1166 1446 1205 1144 1080 1167 1415 1288 1400 1069 1173 1219 1109 1049\n",
      " 1477 1468 1273 1393 1272 1120 1033 1020 1043 1388 1188 1174 1149 1309\n",
      " 1366 1454 1208 1037 1443 1075 1292 1041 1456 1473 1141 1023 1422 1404\n",
      " 1122 1059 1348 1123 1432 1222 1493 1412 1244 1161 1106 1005 1305 1163\n",
      " 1200 1160 1204 1467 1233 1057 1128 1316 1352 1338 1093 1101 1126 1184\n",
      " 1045 1385 1229 1329 1021 1405 1125 1171 1413 1047 1038 1384 1183 1441\n",
      " 1078 1091 1076 1072 1054 1363 1470 1308 1279 1462 1464 1382 1353 1153\n",
      " 1365 1341 1349 1220 1406 1330 1031 1354 1181 1070 1003 1327 1374 1489\n",
      " 1172 1286 1312 1372 1334 1140 1497 1452 1104 1190 1084 1237 1304 1063\n",
      " 1079 1482 1387 1026 1367 1326 1178 1321 1071 1315 1431 1358 1227 1209\n",
      " 1142 1383 1133 1437 1251 1062 1450 1223 1165 1226 1179 1285 1306 1378\n",
      " 1236 1381 1317 1342 1271 1269 1034 1324 1138 1417 1135 1362 1210 1447\n",
      " 1350 1077 1239 1484 1121 1357 1425 1267 1025 1376 1247 1168 1361 1475\n",
      " 1320 1297 1134 1225 1455 1040 1147 1100 1198 1029 1463 1274 1098 1478\n",
      " 1089 1217 1027 1065 1409 1154 1185 1429 1131 1103 1067 1395 1396 1214\n",
      " 1290 1073 1485 1243 1335 1192 1298 1238 1146 1421 1442]\n"
     ]
    }
   ],
   "source": [
    "for i in train.columns:\n",
    "    print(i,train[i].unique())"
   ]
  },
  {
   "cell_type": "code",
   "execution_count": 14,
   "metadata": {},
   "outputs": [
    {
     "name": "stdout",
     "output_type": "stream",
     "text": [
      "Rain_OR_SNOW ['rain' 'snow' nan]\n",
      "Temperature (C) ['-13' '15' '33' '30' '27' '-17' '-5' '-14' '10' '7' '9' '20' '3' '29'\n",
      " '-8' '-15' '-20' '36' '32' '6' '17' '28' '-21' '23' '-4' '25' '-7' '16'\n",
      " '39' '-1' '13' '35' '22' '12' '14' '1' '8' '-3' '38' '5' '37' '-10' '19'\n",
      " '34' '26' '0' '24' '11' '21' '-9' '-2' '4' '-19' '-6' '2' '-16' '-11'\n",
      " '18' '31' '-18' '-12' nan '-' 16 30 17 -13 36 4 9 10 13 27 -8 -16 34 2\n",
      " -11 -9 -10 -5 39 14 7 20 -3 15 24 35 25 -12 26 -14 19 5 38 -4 -17 0 8 21\n",
      " -20 -21 37 22 11 28 12 -18 29 1 -2 -7 -6 33 3 32 -1 6 -15 18 23 31 -19]\n",
      "Apparent Temperature (C) [-19.   5. -12.  36.  30.  33.  21.  -1. -15.  35. -24.  22.  28. -27.\n",
      "   7.   2. -14.  13. -25. -26.   0.  27.   1.  29.  17.  31.  10.  26.\n",
      "  -4.  15.  37.  -3.  11.   9.  23. -23.  34.   4.  24.  -5.  19.  20.\n",
      " -16.  38.  -7. -22.  12.  -6.  -2.  18. -11. -20.  25. -18. -17.   8.\n",
      " -13.  14.  16.   6.  -9. -21. -10.   3.  nan  -8.  32.]\n",
      "Humidity [0.13436424 0.84743374 0.76377462 ... 0.49607649 0.78316099 0.1915549 ]\n",
      "Wind Speed (km/h) [17.  8. 32. 15. 63. 57. 60. 48. 26. 12. 62.  3. 49. 55.  0. 34. 29. 13.\n",
      " 40.  2.  1. 27. 54. 28. 56. 44. 58. 37. 53. 23. 42. 24. 38. 36. 50.  4.\n",
      " 61. 31. 51. 22. 46. 47. 11. 20.  5. 39. 21. 25. 45. 16.  7. 52.  9. 10.\n",
      " 35. 14. 41. 43. 33. 18.  6. 30. 19. 59. nan]\n",
      "Wind Bearing (degrees) [ 68. 291.  32. 130.  60. 253. 230. 241. 333. 194. 107.  48. 249.  14.\n",
      " 199. 221. 311.   1. 356. 228. 136. 117. 302.  52. 162.  15.  11.  13.\n",
      " 332. 277.   4. 195. 351. 110. 216. 270. 113. 224. 283. 119. 176. 118.\n",
      " 346. 112. 235. 148. 213. 284. 328.  51.  95. 322. 151.  61. 170. 256.\n",
      " 259. 343.  97. 155. 145. 300. 255. 258. 201. 301.  17. 245. 124. 206.\n",
      " 212. 340.  88. 187. 280. 359. 345. 191.  44. 339. 260.  55.  83. 266.\n",
      " 189. 250. 240.  22. 157. 314. 303. 296. 331.  87.  86. 257. 116.   6.\n",
      " 102. 276. 207. 263. 295. 180. 137. 337.   2. 196. 262.  66. 265. 287.\n",
      " 105. 218.  28. 246. 186. 211. 248. 182. 177.   0. 275. 319. 313. 169.\n",
      " 234. 307. 325.  90. 281. 299.  92.  46. 282.  16. 344.  36.  42.   8.\n",
      " 231.   7. 143. 127.  56.  94.  35.  85.  81. 336. 139. 150. 232. 164.\n",
      " 254. 242.  58.  12. 159. 197. 175. 215.  96. 132. 129. 261. 310.  10.\n",
      " 115.   9. 203.  74.  18.  82. 347. 278. 355. 264. 114. 268. 202. 294.\n",
      " 323.  30. 152.  64. 108.  24. 156.  39. 158. 289.  19. 111. 318. 193.\n",
      "  50. 293.  99. 252.  53. 166. 205. 144.  80. 167. 288.  69. 173. 219.\n",
      " 109.  49. 273. 272. 120.  33.  20.  43. 188. 174. 149. 309. 208.  37.\n",
      "  75. 292.  41. 141.  23. 122.  59. 348. 123. 222. 244. 161. 106.   5.\n",
      " 305. 163. 200. 160. 204. 233.  57. 128. 316. 352. 338.  93. 101. 126.\n",
      " 184.  45. 229. 329.  21. 125. 171.  47.  38. 183.  78.  91.  76.  72.\n",
      "  54. 308. 279. 353. 153. 341. 349. 220. 330.  31. 354. 181.  70.   3.\n",
      " 327. 172. 286. 312. 334. 140. 104. 190.  84. 237. 304.  63.  79.  26.\n",
      " 326. 178. 321.  71. 315. 358. 227. 209. 142. 133. 251.  62. 223. 165.\n",
      " 226. 179. 285. 306. 236. 317. 342. 271. 269.  34. 324. 138. 135. 210.\n",
      " 350.  77. 239. 121. 357. 267.  25. 247. 168. 320. 297. 134. 225.  40.\n",
      " 147. 100. 198.  29. 274.  98.  89. 217.  27.  65. 154. 185. 131. 103.\n",
      "  67. 214. 290.  73. 243. 335. 192. 298. 238. 146.  nan]\n",
      "Visibility (km) [ 4.  2.  8.  3. 15. 14. 12.  6.  0. 13.  7. 10. 16. 11.  9.  5.  1. nan]\n",
      "Pressure (millibars) [1008. 1036. 1004. 1016. 1007. 1031. 1028. 1030. 1041. 1024. 1013. 1006.\n",
      "   nan 1027. 1038. 1000. 1044. 1017. 1046. 1014. 1037. 1020. 1001. 1034.\n",
      " 1043. 1033. 1035. 1022. 1029. 1018. 1026. 1011. 1040. 1021. 1045. 1032.\n",
      " 1042. 1012. 1019. 1025. 1002. 1015. 1023. 1005. 1010. 1039. 1003. 1009.]\n",
      "Condensation ['Frost' 'Dry' 'Fog' 'Mist']\n",
      "Solar irradiance intensity [1068 1291 1433 1410 1391 1032 1130 1060 1253 1389 1230 1241 1333 1194\n",
      " 1403 1107 1048 1249 1014 1457 1427 1199 1221 1311 1390 1392 1001 1356\n",
      " 1228 1136 1369 1117 1302 1483 1052 1461 1162 1015 1011 1013 1332 1277\n",
      " 1004 1480 1451 1195 1351 1110 1496 1216 1371 1270 1113 1224 1283 1119\n",
      " 1176 1118 1346 1112 1235 1487 1148 1474 1213 1428 1469 1284 1472 1328\n",
      " 1051 1095 1322 1370 1440 1151 1061 1380 1170 1458 1498 1364 1256 1479\n",
      " 1495 1259 1424 1466 1343 1097 1155 1145 1300 1255 1481 1258 1201 1301\n",
      " 1436 1017 1245 1124 1408 1206 1212 1340 1088 1187 1280 1359 1397 1345\n",
      " 1377 1191 1044 1339 1260 1055 1398 1083 1266 1430 1189 1250 1375 1240\n",
      " 1022 1157 1360 1434 1314 1303 1296 1331 1087 1086 1257 1116 1006 1394\n",
      " 1102 1276 1471 1207 1263 1295 1180 1465 1137 1337 1490 1373 1002 1196\n",
      " 1401 1438 1420 1488 1453 1379 1262 1414 1066 1265 1287 1105 1218 1486\n",
      " 1028 1246 1445 1186 1211 1248 1416 1182 1177 1000 1275 1319 1402 1313\n",
      " 1169 1234 1307 1411 1325 1090 1281 1299 1092 1046 1282 1435 1418 1476\n",
      " 1016 1344 1036 1042 1444 1008 1231 1007 1386 1143 1127 1056 1094 1035\n",
      " 1085 1081 1336 1139 1150 1232 1164 1254 1242 1058 1012 1159 1197 1175\n",
      " 1215 1407 1096 1132 1129 1460 1261 1500 1494 1310 1499 1010 1115 1009\n",
      " 1203 1074 1018 1368 1491 1082 1347 1278 1426 1355 1264 1114 1268 1202\n",
      " 1294 1323 1030 1152 1064 1108 1448 1024 1156 1439 1039 1158 1289 1449\n",
      " 1019 1419 1111 1492 1423 1399 1318 1193 1050 1293 1459 1099 1252 1053\n",
      " 1166 1446 1205 1144 1080 1167 1415 1288 1400 1069 1173 1219 1109 1049\n",
      " 1477 1468 1273 1393 1272 1120 1033 1020 1043 1388 1188 1174 1149 1309\n",
      " 1366 1454 1208 1037 1443 1075 1292 1041 1456 1473 1141 1023 1422 1404\n",
      " 1122 1059 1348 1123 1432 1222 1493 1412 1244 1161 1106 1005 1305 1163\n",
      " 1200 1160 1204 1467 1233 1057 1128 1316 1352 1338 1093 1101 1126 1184\n",
      " 1045 1385 1229 1329 1021 1405 1125 1171 1413 1047 1038 1384 1183 1441\n",
      " 1078 1091 1076 1072 1054 1363 1470 1308 1279 1462 1464 1382 1353 1153\n",
      " 1365 1341 1349 1220 1406 1330 1031 1354 1181 1070 1003 1327 1374 1489\n",
      " 1172 1286 1312 1372 1334 1140 1497 1452 1104 1190 1084 1237 1304 1063\n",
      " 1079 1482 1387 1026 1367 1326 1178 1321 1071 1315 1431 1358 1227 1209\n",
      " 1142 1383 1133 1437 1251 1062 1450 1223 1165 1226 1179 1285 1306 1378\n",
      " 1236 1381 1317 1342 1271 1269 1034 1324 1138 1417 1135 1362 1210 1447\n",
      " 1350 1077 1239 1484 1121 1357 1425 1267 1025 1376 1247 1168 1361 1475\n",
      " 1320 1297 1134 1225 1455 1040 1147 1100 1198 1029 1463 1274 1098 1478\n",
      " 1089 1217 1027 1065 1409 1154 1185 1429 1131 1103 1067 1395 1396 1214\n",
      " 1290 1073 1485 1243 1335 1192 1298 1238 1146 1421 1442]\n"
     ]
    }
   ],
   "source": [
    "for i in test.columns:\n",
    "    print(i,train[i].unique())"
   ]
  },
  {
   "cell_type": "code",
   "execution_count": 15,
   "metadata": {},
   "outputs": [],
   "source": [
    "train=train.replace([\"nan\"],np.nan)\n",
    "train=train.replace([\"-\"],np.nan)"
   ]
  },
  {
   "cell_type": "code",
   "execution_count": 16,
   "metadata": {},
   "outputs": [],
   "source": [
    "train[\"Temperature (C)\"]=train[\"Temperature (C)\"].astype(float)    "
   ]
  },
  {
   "cell_type": "code",
   "execution_count": 17,
   "metadata": {},
   "outputs": [],
   "source": [
    "train[\"Temperature (C)\"].fillna(int(train[\"Temperature (C)\"].mean()),inplace=True)\n",
    "train[\"Apparent Temperature (C)\"].fillna(int(train[\"Apparent Temperature (C)\"].mean()),inplace=True)\n",
    "train[\"Humidity\"].fillna(int(train[\"Humidity\"].mean()),inplace=True)\n",
    "train[\"Wind Speed (km/h)\"].fillna(int(train[\"Wind Speed (km/h)\"].mean()),inplace=True)\n",
    "train[\"Wind Bearing (degrees)\"].fillna(int(train[\"Wind Bearing (degrees)\"].mean()),inplace=True)\n",
    "train[\"Visibility (km)\"].fillna(int(train[\"Visibility (km)\"].mean()),inplace=True)\n",
    "train[\"Pressure (millibars)\"].fillna(int(train[\"Pressure (millibars)\"].mean()),inplace=True)"
   ]
  },
  {
   "cell_type": "code",
   "execution_count": 18,
   "metadata": {},
   "outputs": [],
   "source": [
    "train[\"Rain_OR_SNOW\"].fillna(train[\"Rain_OR_SNOW\"].mode()[0],inplace=True)"
   ]
  },
  {
   "cell_type": "code",
   "execution_count": 19,
   "metadata": {},
   "outputs": [
    {
     "data": {
      "text/plain": [
       "Cloud_Condition               0\n",
       "Rain_OR_SNOW                  0\n",
       "Temperature (C)               0\n",
       "Apparent Temperature (C)      0\n",
       "Humidity                      0\n",
       "Wind Speed (km/h)             0\n",
       "Wind Bearing (degrees)        0\n",
       "Visibility (km)               0\n",
       "Pressure (millibars)          0\n",
       "Condensation                  0\n",
       "Solar irradiance intensity    0\n",
       "dtype: int64"
      ]
     },
     "execution_count": 19,
     "metadata": {},
     "output_type": "execute_result"
    }
   ],
   "source": [
    "train.isnull().sum()"
   ]
  },
  {
   "cell_type": "code",
   "execution_count": 20,
   "metadata": {},
   "outputs": [
    {
     "data": {
      "text/plain": [
       "['Cloud_Condition', 'Rain_OR_SNOW', 'Condensation']"
      ]
     },
     "execution_count": 20,
     "metadata": {},
     "output_type": "execute_result"
    }
   ],
   "source": [
    "colname=[]\n",
    "for x in train.columns:\n",
    "    if train[x].dtype=='object':\n",
    "        colname.append(x)\n",
    "colname"
   ]
  },
  {
   "cell_type": "code",
   "execution_count": 21,
   "metadata": {},
   "outputs": [
    {
     "name": "stdout",
     "output_type": "stream",
     "text": [
      "Feature Cloud_Condition\n",
      "mapping {'Breezy': 0, 'Breezy and Dry': 1, 'Breezy and Foggy': 2, 'Breezy and Mostly Cloudy': 3, 'Breezy and Overcast': 4, 'Breezy and Partly Cloudy': 5, 'Clear': 6, 'Dangerously Windy and Partly Cloudy': 7, 'Drizzle': 8, 'Dry': 9, 'Dry and Mostly Cloudy': 10, 'Dry and Partly Cloudy': 11, 'Foggy': 12, 'Humid and Mostly Cloudy': 13, 'Humid and Overcast': 14, 'Humid and Partly Cloudy': 15, 'Light Rain': 16, 'Mostly Cloudy': 17, 'Overcast': 18, 'Partly Cloudy': 19, 'Windy': 20, 'Windy and Dry': 21, 'Windy and Foggy': 22, 'Windy and Mostly Cloudy': 23, 'Windy and Overcast': 24, 'Windy and Partly Cloudy': 25}\n",
      "Feature Rain_OR_SNOW\n",
      "mapping {'rain': 0, 'snow': 1}\n",
      "Feature Condensation\n",
      "mapping {'Dry': 0, 'Fog': 1, 'Frost': 2, 'Mist': 3}\n"
     ]
    }
   ],
   "source": [
    "#transforming categorical data to numerical\n",
    "\n",
    "from sklearn import preprocessing\n",
    "\n",
    "colname=['Cloud_Condition', 'Rain_OR_SNOW', 'Condensation']\n",
    "\n",
    "le=preprocessing.LabelEncoder()\n",
    "\n",
    "for x in colname:\n",
    "    train[x]=le.fit_transform(train[x])\n",
    "    \n",
    "    le_name_mapping = dict(zip(le.classes_, le.transform(le.classes_)))\n",
    "    print('Feature', x)\n",
    "    print('mapping', le_name_mapping)"
   ]
  },
  {
   "cell_type": "code",
   "execution_count": 22,
   "metadata": {},
   "outputs": [
    {
     "data": {
      "text/plain": [
       "['Rain_OR_SNOW', 'Condensation']"
      ]
     },
     "execution_count": 22,
     "metadata": {},
     "output_type": "execute_result"
    }
   ],
   "source": [
    "colname=[]\n",
    "for x in test.columns:\n",
    "    if test[x].dtype=='object':\n",
    "        colname.append(x)\n",
    "colname"
   ]
  },
  {
   "cell_type": "code",
   "execution_count": 23,
   "metadata": {},
   "outputs": [
    {
     "name": "stdout",
     "output_type": "stream",
     "text": [
      "Feature Rain_OR_SNOW\n",
      "mapping {'rain': 0, 'snow': 1}\n",
      "Feature Condensation\n",
      "mapping {'Dry': 0, 'Fog': 1, 'Frost': 2, 'Mist': 3}\n"
     ]
    }
   ],
   "source": [
    "\n",
    "from sklearn import preprocessing\n",
    "\n",
    "colname=[ 'Rain_OR_SNOW', 'Condensation']\n",
    "\n",
    "le=preprocessing.LabelEncoder()\n",
    "\n",
    "for x in colname:\n",
    "    test[x]=le.fit_transform(test[x])\n",
    "    \n",
    "    le_name_mapping = dict(zip(le.classes_, le.transform(le.classes_)))\n",
    "    print('Feature', x)\n",
    "    print('mapping', le_name_mapping)"
   ]
  },
  {
   "cell_type": "code",
   "execution_count": 24,
   "metadata": {},
   "outputs": [],
   "source": [
    "X=train.iloc[:,1:11]\n",
    "Y=train[\"Cloud_Condition\"]\n",
    "#Y=Y_train.astype(int)"
   ]
  },
  {
   "cell_type": "code",
   "execution_count": 25,
   "metadata": {},
   "outputs": [],
   "source": [
    "#X_test=test_data.values[:,:]"
   ]
  },
  {
   "cell_type": "code",
   "execution_count": 26,
   "metadata": {},
   "outputs": [],
   "source": [
    "test1=test"
   ]
  },
  {
   "cell_type": "code",
   "execution_count": 27,
   "metadata": {},
   "outputs": [],
   "source": [
    "from sklearn.model_selection import train_test_split\n",
    "\n",
    "\n",
    "X_train, X_test, Y_train, Y_test = train_test_split(X, Y, test_size=0.3,random_state=10)\n"
   ]
  },
  {
   "cell_type": "code",
   "execution_count": 28,
   "metadata": {},
   "outputs": [
    {
     "data": {
      "text/plain": [
       "DecisionTreeClassifier(ccp_alpha=0.0, class_weight=None, criterion='gini',\n",
       "                       max_depth=5, max_features=None, max_leaf_nodes=None,\n",
       "                       min_impurity_decrease=0.0, min_impurity_split=None,\n",
       "                       min_samples_leaf=10, min_samples_split=2,\n",
       "                       min_weight_fraction_leaf=0.0, presort='deprecated',\n",
       "                       random_state=10, splitter='best')"
      ]
     },
     "execution_count": 28,
     "metadata": {},
     "output_type": "execute_result"
    }
   ],
   "source": [
    "from sklearn.tree import DecisionTreeClassifier\n",
    "\n",
    "model_DecisionTree1=DecisionTreeClassifier(criterion=\"gini\",min_samples_leaf=10,\n",
    "                                          max_depth=5,random_state=10)\n",
    "\n",
    "model_DecisionTree1.fit(X_train,Y_train)\n"
   ]
  },
  {
   "cell_type": "code",
   "execution_count": 29,
   "metadata": {},
   "outputs": [],
   "source": [
    "Y_pred1=model_DecisionTree1.predict(X_test)"
   ]
  },
  {
   "cell_type": "code",
   "execution_count": 30,
   "metadata": {},
   "outputs": [],
   "source": [
    "test_pred1=model_DecisionTree1.predict(test)\n",
    "test_pred1=pd.DataFrame(test_pred1)"
   ]
  },
  {
   "cell_type": "code",
   "execution_count": 31,
   "metadata": {},
   "outputs": [],
   "source": [
    "test2=pd.read_csv(r\"D:\\Hackthon Imarticus\\test_CloudCondition.csv\",header=0)\n"
   ]
  },
  {
   "cell_type": "code",
   "execution_count": 32,
   "metadata": {},
   "outputs": [],
   "source": [
    "dee=pd.concat([test2,test_pred1],axis=1)\n",
    "dee.shape\n",
    "dee.columns.values[11]=\"Cloud_Condition\"\n"
   ]
  },
  {
   "cell_type": "code",
   "execution_count": 33,
   "metadata": {},
   "outputs": [],
   "source": [
    "dee[\"Cloud_Condition\"]=dee['Cloud_Condition'].map({0:'Breezy', 1:'Breezy and Dry',2:'Breezy and Foggy',4:'Breezy and Overcast',5:'Breezy and Partly Cloudy',6:'Clear', 7:'Dangerously Windy and Partly Cloudy',8:'Drizzle',9:'Dry',11:'Dry and Partly Cloudy',12:'Foggy',13:'Humid and Mostly Cloudy',14:'Humid and Overcast',15:'Humid and Partly Cloudy',16:'Light Rain',17:'Mostly Cloudy',18:'Overcast',20:'Windy',\n",
    "         22:'Windy and Foggy',\n",
    "         23:'Windy and Mostly Cloudy',\n",
    "         24:'Windy and Overcast'})"
   ]
  },
  {
   "cell_type": "code",
   "execution_count": 34,
   "metadata": {},
   "outputs": [],
   "source": [
    "df=pd.DataFrame(dee)\n",
    "df.set_index(\"Day\",inplace=True)"
   ]
  },
  {
   "cell_type": "code",
   "execution_count": 35,
   "metadata": {},
   "outputs": [],
   "source": [
    "df.shape\n",
    "df=df.iloc[:,10]"
   ]
  },
  {
   "cell_type": "code",
   "execution_count": 36,
   "metadata": {},
   "outputs": [],
   "source": [
    "df.to_excel(\"Predicted_Cloud_Condition6.xlsx\")\n"
   ]
  },
  {
   "cell_type": "code",
   "execution_count": 37,
   "metadata": {},
   "outputs": [
    {
     "name": "stdout",
     "output_type": "stream",
     "text": [
      "[[   0    0    0    0    0    0    0    0    0    0    0    1    0    0\n",
      "     0    5    1    0    0    0    0    0    0    0]\n",
      " [   0    0    0    0    0    0    0    0    0    0    0   10    0    0\n",
      "     0  176    3    7    0    0    0    0    0    0]\n",
      " [   0    0    0    0    0    0    0    0    0    0    0    1    0    0\n",
      "     0    2    0    0    0    0    0    0    0    0]\n",
      " [   0    0    0    0    0    0    0    0    0    0    0    9    0    0\n",
      "     0  147    1    2    0    0    0    0    0    0]\n",
      " [   0    0    0    0    0    0    0    0    0    0    0   14    0    0\n",
      "     0  103    0    3    0    0    0    0    0    0]\n",
      " [   0    0    0    0    0    0    0    0    0    0    0    2    0    0\n",
      "     0  106    0    1    0    0    0    0    0    0]\n",
      " [   0    0    0    0    0    0    0    0    0    0    0  346    0    0\n",
      "     0 2511   21   43    0    0    0    0    0    0]\n",
      " [   0    0    0    0    0    0    0    0    0    0    0    0    0    0\n",
      "     0    1    0    0    0    0    0    0    0    0]\n",
      " [   0    0    0    0    0    0    0    0    0    0    0    0    0    0\n",
      "     0    9    0    0    0    0    0    0    0    0]\n",
      " [   0    0    0    0    0    0    0    0    0    0    0    0    0    0\n",
      "     0    1    0    0    0    0    0    0    0    0]\n",
      " [   0    0    0    0    0    0    0    0    0    0    0    0    0    0\n",
      "     0   26    0    0    0    0    0    0    0    0]\n",
      " [   0    0    0    0    0    0    0    0    0    0    0  763    0    0\n",
      "     0  935   30   14    0    0    0    0    0    0]\n",
      " [   0    0    0    0    0    0    0    0    0    0    0    0    0    0\n",
      "     0   12    0    0    0    0    0    0    0    0]\n",
      " [   0    0    0    0    0    0    0    0    0    0    0    0    0    0\n",
      "     0    6    0    0    0    0    0    0    0    0]\n",
      " [   0    0    0    0    0    0    0    0    0    0    0   12    0    0\n",
      "     0   58    0    1    0    0    0    0    0    0]\n",
      " [   0    0    0    0    0    0    0    0    0    0    0  403    0    0\n",
      "     0 6055   28   84    0    0    0    0    0    0]\n",
      " [   0    0    0    0    0    0    0    0    0    0    0  730    0    0\n",
      "     0 3321   42   45    0    0    0    0    0    0]\n",
      " [   0    0    0    0    0    0    0    0    0    0    0  290    0    0\n",
      "     0 4910   27   71    0    0    0    0    0    0]\n",
      " [   0    0    0    0    0    0    0    0    0    0    0    0    0    0\n",
      "     0    3    0    0    0    0    0    0    0    0]\n",
      " [   0    0    0    0    0    0    0    0    0    0    0    0    0    0\n",
      "     0    1    0    0    0    0    0    0    0    0]\n",
      " [   0    0    0    0    0    0    0    0    0    0    0    0    0    0\n",
      "     0    1    0    0    0    0    0    0    0    0]\n",
      " [   0    0    0    0    0    0    0    0    0    0    0    0    0    0\n",
      "     0    5    0    0    0    0    0    0    0    0]\n",
      " [   0    0    0    0    0    0    0    0    0    0    0    0    0    0\n",
      "     0   10    0    0    0    0    0    0    0    0]\n",
      " [   0    0    0    0    0    0    0    0    0    0    0    0    0    0\n",
      "     0   20    0    0    0    0    0    0    0    0]]\n",
      "\n",
      "Classification report: \n",
      "              precision    recall  f1-score   support\n",
      "\n",
      "           0       0.00      0.00      0.00         7\n",
      "           1       0.00      0.00      0.00       196\n",
      "           2       0.00      0.00      0.00         3\n",
      "           3       0.00      0.00      0.00       159\n",
      "           4       0.00      0.00      0.00       120\n",
      "           5       0.00      0.00      0.00       109\n",
      "           6       0.00      0.00      0.00      2921\n",
      "           8       0.00      0.00      0.00         1\n",
      "           9       0.00      0.00      0.00         9\n",
      "          10       0.00      0.00      0.00         1\n",
      "          11       0.00      0.00      0.00        26\n",
      "          12       0.30      0.44      0.35      1742\n",
      "          13       0.00      0.00      0.00        12\n",
      "          15       0.00      0.00      0.00         6\n",
      "          16       0.00      0.00      0.00        71\n",
      "          17       0.33      0.92      0.48      6570\n",
      "          18       0.27      0.01      0.02      4138\n",
      "          19       0.26      0.01      0.03      5298\n",
      "          20       0.00      0.00      0.00         3\n",
      "          21       0.00      0.00      0.00         1\n",
      "          22       0.00      0.00      0.00         1\n",
      "          23       0.00      0.00      0.00         5\n",
      "          24       0.00      0.00      0.00        10\n",
      "          25       0.00      0.00      0.00        20\n",
      "\n",
      "    accuracy                           0.32     21429\n",
      "   macro avg       0.05      0.06      0.04     21429\n",
      "weighted avg       0.24      0.32      0.19     21429\n",
      "\n",
      "Accuracy of the model:  0.3234401978627094\n"
     ]
    },
    {
     "name": "stderr",
     "output_type": "stream",
     "text": [
      "D:\\Anaconda\\lib\\site-packages\\sklearn\\metrics\\_classification.py:1272: UndefinedMetricWarning: Precision and F-score are ill-defined and being set to 0.0 in labels with no predicted samples. Use `zero_division` parameter to control this behavior.\n",
      "  _warn_prf(average, modifier, msg_start, len(result))\n"
     ]
    }
   ],
   "source": [
    "from sklearn.metrics import confusion_matrix, accuracy_score,classification_report\n",
    "\n",
    "cfm=confusion_matrix(Y_test,Y_pred1)\n",
    "print(cfm)\n",
    "print()\n",
    "\n",
    "print(\"Classification report: \")\n",
    "\n",
    "print(classification_report(Y_test,Y_pred1))\n",
    "\n",
    "acc=accuracy_score(Y_test, Y_pred1)\n",
    "print(\"Accuracy of the model: \",acc)"
   ]
  },
  {
   "cell_type": "code",
   "execution_count": null,
   "metadata": {},
   "outputs": [],
   "source": []
  }
 ],
 "metadata": {
  "kernelspec": {
   "display_name": "Python 3",
   "language": "python",
   "name": "python3"
  },
  "language_info": {
   "codemirror_mode": {
    "name": "ipython",
    "version": 3
   },
   "file_extension": ".py",
   "mimetype": "text/x-python",
   "name": "python",
   "nbconvert_exporter": "python",
   "pygments_lexer": "ipython3",
   "version": "3.7.6"
  }
 },
 "nbformat": 4,
 "nbformat_minor": 4
}
